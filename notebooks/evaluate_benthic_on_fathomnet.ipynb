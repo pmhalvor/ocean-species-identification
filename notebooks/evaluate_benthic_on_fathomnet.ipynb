{
 "cells": [
  {
   "cell_type": "markdown",
   "metadata": {},
   "source": [
    "# Evaluating on FathomNet data\n",
    "In this notebook, we will breifly evaluate the 3 SR variants of the MBARI Benthic Object Detector on a small subset of the FathomNet data. \n",
    "The MBARI Benthic Object Detector will also be included here, as the baseline model.\n",
    "\n",
    "## Background\n",
    "We previously evaluated the MBARI Benthic Object detector on a small, external dataset called [TrashCAN](some-link). \n",
    "This served a few purposes:\n",
    "1. It allowed us to evaluate the model on a dataset that was not used in training, to get a sense of how well the model generalizes to new data.\n",
    "2. The different qulity of images and annotaions of the TrashCAN data alos let's us see how the Benthic model might perform in real-world scenarios. This could be useful if many of the images used to train the Benthic Object Detector are of a higher quality than what we might expect to see in the field.\n",
    "3. Get some experience with applying a pretrained model to a separate task (new labels) using no fine-tuning, only label mapping. \n",
    "\n",
    "There, we found that the HAT model had the best \n",
    "\n",
    "## Goal\n",
    "To bring this project back to the FathomNet realm, we will evaluate our models on data loaded fromthe FathomNet API. \n",
    "To keep the comparison fair, we should still map the FathomNet labels to the TrashCAN labels.\n",
    "This means we need to load and extract only evaluation data with the concepts corresponding to the TrashCAN labels (similar to what we did for the TrashCAN evaluation).\n",
    "\n",
    "We can reuse some of the code previously developed for the TrashCAN evaluation, but we will need to make some changes to the evaluation loops to handle the true labels of the data. \n",
    "\n",
    "## Hypothesis\n",
    "We expect performance to be slightly worse than for the TrashCAN evaluation. \n",
    "At first glance, this may seem unexpected, since data similar to the FathomNet data was used to train the Benthic Object Detector.\n",
    "However, we need to keep in mind that evaluations"
   ]
  },
  {
   "cell_type": "code",
   "execution_count": null,
   "metadata": {},
   "outputs": [],
   "source": []
  }
 ],
 "metadata": {
  "language_info": {
   "name": "python"
  }
 },
 "nbformat": 4,
 "nbformat_minor": 2
}
