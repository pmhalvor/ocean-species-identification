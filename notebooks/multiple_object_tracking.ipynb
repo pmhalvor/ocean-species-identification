{
 "cells": [
  {
   "cell_type": "markdown",
   "metadata": {},
   "source": [
    "# Multiple object tracking\n",
    "\n",
    "In this note, we will explore a few of the most popular algorithms for multiple object tracking. \n",
    "We will start with a brief introduction to the problem, including the similarities and differences between object detection and object tracking. \n",
    "Building on this foundational understanding, we will introduce some of the most popular trackers, along with some libraries and repositories with implementations of these trackers.  \n"
   ]
  },
  {
   "cell_type": "markdown",
   "metadata": {},
   "source": [
    "\n",
    "## Background\n",
    "- Object detection vs. object tracking\n",
    "    - Detections can vary from frame to frame due to blur, pose, occlusion, etc.\n",
    "    - One object may recieve many tracked ids if a detection is not produced in a (set of) frame(s)\n",
    "    - Tracking requires then both detections but also a way to associate them across frames\n",
    "    - Tracking can be online or offline, depending on the computational resources available\n",
    "    - Modern tracking techniques typically use a detector (YOLO, ResNet, etc.) together with a tracker (SORT, ByteTrack, etc.)\n",
    "- Movement predictions require info about velocity, direction, etc.\n",
    "    - Can be constant, determined beforehand or learned from data\n",
    "    - Can be adaptive, as seen in Kalman filters \n",
    "- Some classic methods exploit derivative-like estimatations of postion from changes in detections between frames\n",
    "    - Even simplier ones just look at IOU between objects found through filtering\n",
    "- Some trackers that leverage deep learning incorporate visual information about each detected object to help performance\n",
    "    - This can be done through embeddings, which are learned representations of the object's appearance\n",
    "    - These embeddings can be used to associate objects across frames, even when they are occluded or change appearance\n",
    "- Evaluating trackers is a difficult task, as there is no single metric that can capture all the nuances of tracking performance\n",
    "    - MOTA, MOTP, etc. are some of the most popular metrics used to evaluate trackers\n",
    "    - These metrics are based on the number of false positives, false negatives, and identity switches that occur during tracking\n",
    "    - The MOTChallenge is a popular benchmark for evaluating multiple object tracking algorithms\n"
   ]
  },
  {
   "cell_type": "markdown",
   "metadata": {},
   "source": [
    "# Tracking algorithims\n",
    "\n",
    "## Classic\n",
    "- Background detection\n",
    "- Contour filtering\n",
    "- Mean shift\n",
    "- Particle filter\n",
    "- Kalman filter (SORT)\n",
    "- Hungarian algorithm (SORT)\n",
    "\n",
    "## Modern\n",
    "- DeepSORT\n",
    "    - replace IOU with Mahalanobis distance\n",
    "    - use embeddings to associate objects across frames\n",
    "- StrongSORT\n",
    "    - ...?\n",
    "- ByteTrack\n",
    "    - ...?\n"
   ]
  },
  {
   "cell_type": "code",
   "execution_count": null,
   "metadata": {},
   "outputs": [],
   "source": []
  },
  {
   "cell_type": "code",
   "execution_count": null,
   "metadata": {},
   "outputs": [],
   "source": []
  }
 ],
 "metadata": {
  "kernelspec": {
   "display_name": "training",
   "language": "python",
   "name": "python3"
  },
  "language_info": {
   "codemirror_mode": {
    "name": "ipython",
    "version": 3
   },
   "file_extension": ".py",
   "mimetype": "text/x-python",
   "name": "python",
   "nbconvert_exporter": "python",
   "pygments_lexer": "ipython3",
   "version": "3.11.5"
  }
 },
 "nbformat": 4,
 "nbformat_minor": 2
}
