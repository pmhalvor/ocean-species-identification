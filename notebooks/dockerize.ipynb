{
 "cells": [
  {
   "cell_type": "markdown",
   "metadata": {},
   "source": [
    "# Pipeline distribution\n",
    "\n",
    "We now want to bake everything we've done into a single executable that can be run on any machine.\n",
    " We'll use the `argparse` module to parse command line arguments and the `subprocess` module to run the commands."
   ]
  },
  {
   "cell_type": "code",
   "execution_count": null,
   "metadata": {},
   "outputs": [],
   "source": []
  }
 ],
 "metadata": {
  "language_info": {
   "name": "python"
  }
 },
 "nbformat": 4,
 "nbformat_minor": 2
}
